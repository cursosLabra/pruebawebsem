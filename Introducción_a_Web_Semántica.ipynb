{
  "nbformat": 4,
  "nbformat_minor": 0,
  "metadata": {
    "colab": {
      "provenance": [],
      "toc_visible": true,
      "include_colab_link": true
    },
    "kernelspec": {
      "name": "python3",
      "display_name": "Python 3"
    },
    "language_info": {
      "name": "python"
    }
  },
  "cells": [
    {
      "cell_type": "markdown",
      "metadata": {
        "id": "view-in-github",
        "colab_type": "text"
      },
      "source": [
        "<a href=\"https://colab.research.google.com/github/cursosLabra/pruebawebsem/blob/main/Introducci%C3%B3n_a_Web_Sem%C3%A1ntica.ipynb\" target=\"_parent\"><img src=\"https://colab.research.google.com/assets/colab-badge.svg\" alt=\"Open In Colab\"/></a>"
      ]
    },
    {
      "cell_type": "markdown",
      "source": [
        "# Introducción a RDF"
      ],
      "metadata": {
        "id": "MWDvi7GJZulR"
      }
    },
    {
      "cell_type": "code",
      "execution_count": null,
      "metadata": {
        "colab": {
          "base_uri": "https://localhost:8080/"
        },
        "id": "0fRGQHRnB50E",
        "outputId": "7bd01e4f-49b3-4316-8636-d2133522b998"
      },
      "outputs": [
        {
          "output_type": "stream",
          "name": "stdout",
          "text": [
            "Looking in indexes: https://pypi.org/simple, https://us-python.pkg.dev/colab-wheels/public/simple/\n",
            "Requirement already satisfied: rdflib in /usr/local/lib/python3.10/dist-packages (6.3.2)\n",
            "Requirement already satisfied: isodate<0.7.0,>=0.6.0 in /usr/local/lib/python3.10/dist-packages (from rdflib) (0.6.1)\n",
            "Requirement already satisfied: pyparsing<4,>=2.1.0 in /usr/local/lib/python3.10/dist-packages (from rdflib) (3.0.9)\n",
            "Requirement already satisfied: six in /usr/local/lib/python3.10/dist-packages (from isodate<0.7.0,>=0.6.0->rdflib) (1.16.0)\n"
          ]
        }
      ],
      "source": [
        "!pip install rdflib"
      ]
    },
    {
      "cell_type": "markdown",
      "source": [
        "En esta sección, se va a introducir RDF. Para ello, se requiere instalar la  librería [rdflib](https://rdflib.readthedocs.io/)."
      ],
      "metadata": {
        "id": "zldzEGeeChTK"
      }
    },
    {
      "cell_type": "markdown",
      "source": [
        "A partir de ahí, se pueden crear grafos importando las clases correspondientes de rdflib."
      ],
      "metadata": {
        "id": "9_tPCi7AaKpB"
      }
    },
    {
      "cell_type": "code",
      "source": [
        "from rdflib import Graph"
      ],
      "metadata": {
        "id": "HH6ynQnyCmIM"
      },
      "execution_count": null,
      "outputs": []
    },
    {
      "cell_type": "code",
      "source": [
        "g = Graph()"
      ],
      "metadata": {
        "id": "I-N-TIFIDLCB"
      },
      "execution_count": null,
      "outputs": []
    },
    {
      "cell_type": "code",
      "source": [
        "g.parse(\"https://raw.githubusercontent.com/cursosLabra/pruebawebsem/main/example1.ttl\", format=\"turtle\")"
      ],
      "metadata": {
        "colab": {
          "base_uri": "https://localhost:8080/"
        },
        "id": "5uJPtI2vDNm5",
        "outputId": "576aac8e-6fba-4d5d-9985-c4b912f9ed37"
      },
      "execution_count": null,
      "outputs": [
        {
          "output_type": "execute_result",
          "data": {
            "text/plain": [
              "<Graph identifier=N4386f932b84e49308fbc9107e9db2b73 (<class 'rdflib.graph.Graph'>)>"
            ]
          },
          "metadata": {},
          "execution_count": 4
        }
      ]
    },
    {
      "cell_type": "code",
      "source": [
        "for contador, t in enumerate(g):\n",
        "  print(f\"Tripleta {contador}: sujeto = {t[0]}, predicado = {t[1]}, objeto = {t[2]}\") "
      ],
      "metadata": {
        "colab": {
          "base_uri": "https://localhost:8080/"
        },
        "id": "cnxPNymODh_z",
        "outputId": "a6c531e8-0041-411c-a2c9-1895c0e9f923"
      },
      "execution_count": null,
      "outputs": [
        {
          "output_type": "stream",
          "name": "stdout",
          "text": [
            "Tripleta 0: sujeto = http://example.org/carol, predicado = https://schema.org/knows, objeto = http://example.org/alice\n",
            "Tripleta 1: sujeto = http://example.org/carol, predicado = https://schema.org/knows, objeto = http://example.org/bob\n",
            "Tripleta 2: sujeto = http://example.org/bob, predicado = https://schema.org/knows, objeto = http://example.org/carol\n",
            "Tripleta 3: sujeto = http://example.org/alice, predicado = https://schema.org/knows, objeto = http://example.org/bob\n"
          ]
        }
      ]
    },
    {
      "cell_type": "code",
      "source": [
        "print(g.serialize(format=\"nt\"))"
      ],
      "metadata": {
        "colab": {
          "base_uri": "https://localhost:8080/"
        },
        "id": "Gcd8jDZGc30Q",
        "outputId": "06527df5-1c35-4c59-a159-c37088c5cfc8"
      },
      "execution_count": null,
      "outputs": [
        {
          "output_type": "stream",
          "name": "stdout",
          "text": [
            "<http://example.org/carol> <https://schema.org/knows> <http://example.org/alice> .\n",
            "<http://example.org/carol> <https://schema.org/knows> <http://example.org/bob> .\n",
            "<http://example.org/bob> <https://schema.org/knows> <http://example.org/carol> .\n",
            "<http://example.org/alice> <https://schema.org/knows> <http://example.org/bob> .\n",
            "\n"
          ]
        }
      ]
    },
    {
      "cell_type": "code",
      "source": [
        "print(g.serialize(format=\"xml\"))"
      ],
      "metadata": {
        "colab": {
          "base_uri": "https://localhost:8080/"
        },
        "id": "nAw4nv9EhzRg",
        "outputId": "86945826-edb8-468a-c41d-81e6c1ede82e"
      },
      "execution_count": null,
      "outputs": [
        {
          "output_type": "stream",
          "name": "stdout",
          "text": [
            "<?xml version=\"1.0\" encoding=\"utf-8\"?>\n",
            "<rdf:RDF\n",
            "   xmlns:rdf=\"http://www.w3.org/1999/02/22-rdf-syntax-ns#\"\n",
            "   xmlns:schema=\"https://schema.org/\"\n",
            ">\n",
            "  <rdf:Description rdf:about=\"http://example.org/carol\">\n",
            "    <schema:knows rdf:resource=\"http://example.org/bob\"/>\n",
            "    <schema:knows rdf:resource=\"http://example.org/alice\"/>\n",
            "  </rdf:Description>\n",
            "  <rdf:Description rdf:about=\"http://example.org/bob\">\n",
            "    <schema:knows rdf:resource=\"http://example.org/carol\"/>\n",
            "  </rdf:Description>\n",
            "  <rdf:Description rdf:about=\"http://example.org/alice\">\n",
            "    <schema:knows rdf:resource=\"http://example.org/bob\"/>\n",
            "  </rdf:Description>\n",
            "</rdf:RDF>\n",
            "\n"
          ]
        }
      ]
    },
    {
      "cell_type": "code",
      "source": [
        "print(g.serialize(format=\"json-ld\"))"
      ],
      "metadata": {
        "colab": {
          "base_uri": "https://localhost:8080/"
        },
        "id": "VOA6jtCoh_gI",
        "outputId": "9cbdba9b-ff51-4f60-ea66-765f160aad49"
      },
      "execution_count": null,
      "outputs": [
        {
          "output_type": "stream",
          "name": "stdout",
          "text": [
            "[\n",
            "  {\n",
            "    \"@id\": \"http://example.org/carol\",\n",
            "    \"https://schema.org/knows\": [\n",
            "      {\n",
            "        \"@id\": \"http://example.org/bob\"\n",
            "      },\n",
            "      {\n",
            "        \"@id\": \"http://example.org/alice\"\n",
            "      }\n",
            "    ]\n",
            "  },\n",
            "  {\n",
            "    \"@id\": \"http://example.org/bob\",\n",
            "    \"https://schema.org/knows\": [\n",
            "      {\n",
            "        \"@id\": \"http://example.org/carol\"\n",
            "      }\n",
            "    ]\n",
            "  },\n",
            "  {\n",
            "    \"@id\": \"http://example.org/alice\",\n",
            "    \"https://schema.org/knows\": [\n",
            "      {\n",
            "        \"@id\": \"http://example.org/bob\"\n",
            "      }\n",
            "    ]\n",
            "  }\n",
            "]\n"
          ]
        }
      ]
    },
    {
      "cell_type": "code",
      "source": [
        "g.parse(\"https://raw.githubusercontent.com/cursosLabra/pruebawebsem/main/example2.ttl\", format=\"turtle\")\n",
        "print(g.serialize(format=\"turtle\"))"
      ],
      "metadata": {
        "colab": {
          "base_uri": "https://localhost:8080/"
        },
        "id": "xmTN0s_1Oqmf",
        "outputId": "6864febd-c955-478f-93ee-3e7b40e3c765"
      },
      "execution_count": null,
      "outputs": [
        {
          "output_type": "stream",
          "name": "stdout",
          "text": [
            "@prefix : <http://example.org/> .\n",
            "@prefix dbr: <http://dbpedia.org/resource/> .\n",
            "@prefix schema: <https://schema.org/> .\n",
            "\n",
            ":alice schema:knows :bob .\n",
            "\n",
            ":carol schema:birthPlace dbr:Oviedo ;\n",
            "    schema:knows :alice,\n",
            "        :bob .\n",
            "\n",
            ":bob schema:birthPlace dbr:Oviedo ;\n",
            "    schema:knows :carol .\n",
            "\n",
            "\n"
          ]
        }
      ]
    },
    {
      "cell_type": "markdown",
      "source": [
        "# SPARQL"
      ],
      "metadata": {
        "id": "eSJfcps2E6Es"
      }
    },
    {
      "cell_type": "markdown",
      "source": [
        "La librería rdflib también permite realizar consultas SPARQL"
      ],
      "metadata": {
        "id": "3AwPwOgRJzL0"
      }
    },
    {
      "cell_type": "code",
      "source": [
        "g.parse(\"https://raw.githubusercontent.com/cursosLabra/pruebawebsem/main/SPARQL/datos.ttl\", format=\"turtle\")"
      ],
      "metadata": {
        "colab": {
          "base_uri": "https://localhost:8080/"
        },
        "id": "hUAHh2xOGxxj",
        "outputId": "a6734817-96aa-433f-ed14-901b17571109"
      },
      "execution_count": null,
      "outputs": [
        {
          "output_type": "execute_result",
          "data": {
            "text/plain": [
              "<Graph identifier=N4386f932b84e49308fbc9107e9db2b73 (<class 'rdflib.graph.Graph'>)>"
            ]
          },
          "metadata": {},
          "execution_count": 10
        }
      ]
    },
    {
      "cell_type": "markdown",
      "source": [
        "Ejecutar consulta SPARQL"
      ],
      "metadata": {
        "id": "ST4IhYqiHJUr"
      }
    },
    {
      "cell_type": "code",
      "source": [
        "query1 = \"\"\"\n",
        "PREFIX dc:  <http://purl.org/dc/terms/>\n",
        "PREFIX uni: <http://uniovi.es/>\n",
        "PREFIX rdf: <http://www.w3.org/1999/02/22-rdf-syntax-ns#> \n",
        "\n",
        "\n",
        "SELECT ?p ?c WHERE {\n",
        " ?p  dc:creator  ?c .\n",
        " ?c  rdf:type    uni:Profesor .\n",
        "}\"\"\"\n",
        "result = g.query(query1)"
      ],
      "metadata": {
        "id": "AotXq-AwHHWd"
      },
      "execution_count": null,
      "outputs": []
    },
    {
      "cell_type": "markdown",
      "source": [
        "Mostrar resultados"
      ],
      "metadata": {
        "id": "uFveHxftHMWD"
      }
    },
    {
      "cell_type": "code",
      "source": [
        "for row in result:\n",
        "    print(f\"{row.p} {row.c}\")"
      ],
      "metadata": {
        "colab": {
          "base_uri": "https://localhost:8080/"
        },
        "id": "QYHCQ9SbHNuj",
        "outputId": "a4f289ea-e2f4-4ecc-bf98-1a5c1f665a42"
      },
      "execution_count": null,
      "outputs": [
        {
          "output_type": "stream",
          "name": "stdout",
          "text": [
            "http://uniovi.es/biologia http://uniovi.es/ana\n",
            "http://uniovi.es/quimica http://uniovi.es/ana\n",
            "http://uniovi.es/biologia http://uniovi.es/juan\n"
          ]
        }
      ]
    },
    {
      "cell_type": "markdown",
      "source": [
        "# ShEx"
      ],
      "metadata": {
        "id": "q3KV2tEEE0pN"
      }
    },
    {
      "cell_type": "markdown",
      "source": [
        "[ShEx](http://shex.io/) (Shape Expressions) es un lenguaje para validar datos RDF. La librería [PyShEx](https://github.com/hsolbrig/PyShEx) permite realizar validaciones mediante Python y es compatible con rdflib."
      ],
      "metadata": {
        "id": "vsKsC0WnJ5jE"
      }
    },
    {
      "cell_type": "code",
      "source": [
        "!pip install pyshex"
      ],
      "metadata": {
        "colab": {
          "base_uri": "https://localhost:8080/"
        },
        "id": "vsCnyU6BHkVU",
        "outputId": "b88452ae-fc80-4b8b-9ca6-5e955a50c9e3"
      },
      "execution_count": null,
      "outputs": [
        {
          "output_type": "stream",
          "name": "stdout",
          "text": [
            "Looking in indexes: https://pypi.org/simple, https://us-python.pkg.dev/colab-wheels/public/simple/\n",
            "Requirement already satisfied: pyshex in /usr/local/lib/python3.10/dist-packages (0.8.1)\n",
            "Requirement already satisfied: cfgraph>=0.2.1 in /usr/local/lib/python3.10/dist-packages (from pyshex) (0.2.1)\n",
            "Requirement already satisfied: chardet in /usr/local/lib/python3.10/dist-packages (from pyshex) (4.0.0)\n",
            "Requirement already satisfied: pyshexc==0.9.1 in /usr/local/lib/python3.10/dist-packages (from pyshex) (0.9.1)\n",
            "Requirement already satisfied: rdflib-shim in /usr/local/lib/python3.10/dist-packages (from pyshex) (1.0.3)\n",
            "Requirement already satisfied: requests>=2.22.0 in /usr/local/lib/python3.10/dist-packages (from pyshex) (2.27.1)\n",
            "Requirement already satisfied: shexjsg>=0.8.2 in /usr/local/lib/python3.10/dist-packages (from pyshex) (0.8.2)\n",
            "Requirement already satisfied: sparqlslurper>=0.5.1 in /usr/local/lib/python3.10/dist-packages (from pyshex) (0.5.1)\n",
            "Requirement already satisfied: sparqlwrapper>=1.8.5 in /usr/local/lib/python3.10/dist-packages (from pyshex) (2.0.0)\n",
            "Requirement already satisfied: urllib3 in /usr/local/lib/python3.10/dist-packages (from pyshex) (1.26.15)\n",
            "Requirement already satisfied: antlr4-python3-runtime~=4.9.3 in /usr/local/lib/python3.10/dist-packages (from pyshexc==0.9.1->pyshex) (4.9.3)\n",
            "Requirement already satisfied: jsonasobj>=1.2.1 in /usr/local/lib/python3.10/dist-packages (from pyshexc==0.9.1->pyshex) (1.3.1)\n",
            "Requirement already satisfied: pyjsg>=0.11.10 in /usr/local/lib/python3.10/dist-packages (from pyshexc==0.9.1->pyshex) (0.11.10)\n",
            "Requirement already satisfied: rdflib>=0.4.2 in /usr/local/lib/python3.10/dist-packages (from cfgraph>=0.2.1->pyshex) (6.3.2)\n",
            "Requirement already satisfied: certifi>=2017.4.17 in /usr/local/lib/python3.10/dist-packages (from requests>=2.22.0->pyshex) (2022.12.7)\n",
            "Requirement already satisfied: charset-normalizer~=2.0.0 in /usr/local/lib/python3.10/dist-packages (from requests>=2.22.0->pyshex) (2.0.12)\n",
            "Requirement already satisfied: idna<4,>=2.5 in /usr/local/lib/python3.10/dist-packages (from requests>=2.22.0->pyshex) (3.4)\n",
            "Requirement already satisfied: rdflib-jsonld==0.6.1 in /usr/local/lib/python3.10/dist-packages (from rdflib-shim->pyshex) (0.6.1)\n",
            "Requirement already satisfied: isodate<0.7.0,>=0.6.0 in /usr/local/lib/python3.10/dist-packages (from rdflib>=0.4.2->cfgraph>=0.2.1->pyshex) (0.6.1)\n",
            "Requirement already satisfied: pyparsing<4,>=2.1.0 in /usr/local/lib/python3.10/dist-packages (from rdflib>=0.4.2->cfgraph>=0.2.1->pyshex) (3.0.9)\n",
            "Requirement already satisfied: six in /usr/local/lib/python3.10/dist-packages (from isodate<0.7.0,>=0.6.0->rdflib>=0.4.2->cfgraph>=0.2.1->pyshex) (1.16.0)\n"
          ]
        }
      ]
    },
    {
      "cell_type": "code",
      "source": [
        "from pyshex import ShExEvaluator"
      ],
      "metadata": {
        "id": "RsFqz7fAHmnc"
      },
      "execution_count": null,
      "outputs": []
    },
    {
      "cell_type": "code",
      "source": [
        "from rdflib import Graph, Namespace"
      ],
      "metadata": {
        "id": "_Qeb9MMZHos0"
      },
      "execution_count": null,
      "outputs": []
    },
    {
      "cell_type": "code",
      "source": [
        "g = Graph()\n",
        "g.parse(\"https://raw.githubusercontent.com/cursosLabra/pruebawebsem/main/ShEx/example1.ttl\", format=\"turtle\")\n"
      ],
      "metadata": {
        "colab": {
          "base_uri": "https://localhost:8080/"
        },
        "id": "GMTEd3GGHThy",
        "outputId": "b11dd65b-7fcf-4857-fb38-459cd8439085"
      },
      "execution_count": null,
      "outputs": [
        {
          "output_type": "execute_result",
          "data": {
            "text/plain": [
              "<Graph identifier=Ne8ea743351e44a9bbef00083b5c109b5 (<class 'rdflib.graph.Graph'>)>"
            ]
          },
          "metadata": {},
          "execution_count": 38
        }
      ]
    },
    {
      "cell_type": "code",
      "source": [
        "ex = Namespace(\"http://example.org/\")"
      ],
      "metadata": {
        "id": "nv5dm880HrSE"
      },
      "execution_count": null,
      "outputs": []
    },
    {
      "cell_type": "code",
      "source": [
        "shex = \"\"\"\n",
        "prefix :       <http://example.org/>\n",
        "prefix schema: <http://schema.org/> \n",
        "prefix xsd:    <http://www.w3.org/2001/XMLSchema#>\n",
        "\n",
        ":User IRI {\n",
        " schema:name  xsd:string   ;\n",
        " schema:knows @:User    *\n",
        "}\n",
        "\"\"\""
      ],
      "metadata": {
        "id": "4tFcyHyqH3tu"
      },
      "execution_count": null,
      "outputs": []
    },
    {
      "cell_type": "code",
      "source": [
        "results = ShExEvaluator().evaluate(g, shex, focus = ex.dave, start = ex.User)"
      ],
      "metadata": {
        "id": "pcVqemGjH0fk"
      },
      "execution_count": null,
      "outputs": []
    },
    {
      "cell_type": "code",
      "source": [
        "for r in results:\n",
        "    if r.result:\n",
        "        print(\"PASS\")\n",
        "    else:\n",
        "        print(f\"FAIL: {r.reason}\")\n"
      ],
      "metadata": {
        "colab": {
          "base_uri": "https://localhost:8080/"
        },
        "id": "EEtGFWOvILyr",
        "outputId": "09c148b8-10d1-4b20-c380-c3d0e441002c"
      },
      "execution_count": null,
      "outputs": [
        {
          "output_type": "stream",
          "name": "stdout",
          "text": [
            "FAIL:   Testing :dave against shape N5464fb140f5e47c5b44b9cd0b8979a0e\n",
            "    Datatype mismatch - expected: http://www.w3.org/2001/XMLSchema#string actual: http://www.w3.org/2001/XMLSchema#integer\n"
          ]
        }
      ]
    },
    {
      "cell_type": "markdown",
      "source": [
        "# SHACL"
      ],
      "metadata": {
        "id": "bvBBFbHAE_vU"
      }
    },
    {
      "cell_type": "markdown",
      "source": [
        "[SHACL](https://www.w3.org/TR/shacl/) es otro lenguaje para validar datos RDF que puede utilizarse mediante la librería [PySHACL](https://github.com/RDFLib/pySHACL)."
      ],
      "metadata": {
        "id": "HXqWbioaKLSW"
      }
    },
    {
      "cell_type": "code",
      "source": [
        "!pip install pyshacl"
      ],
      "metadata": {
        "colab": {
          "base_uri": "https://localhost:8080/"
        },
        "id": "HLH-j1iyIOib",
        "outputId": "5b5b345f-f366-4619-c5b3-241706a478e7"
      },
      "execution_count": null,
      "outputs": [
        {
          "output_type": "stream",
          "name": "stdout",
          "text": [
            "Looking in indexes: https://pypi.org/simple, https://us-python.pkg.dev/colab-wheels/public/simple/\n",
            "Collecting pyshacl\n",
            "  Downloading pyshacl-0.22.2-py3-none-any.whl (1.2 MB)\n",
            "\u001b[2K     \u001b[90m━━━━━━━━━━━━━━━━━━━━━━━━━━━━━━━━━━━━━━━━\u001b[0m \u001b[32m1.2/1.2 MB\u001b[0m \u001b[31m19.3 MB/s\u001b[0m eta \u001b[36m0:00:00\u001b[0m\n",
            "\u001b[?25hRequirement already satisfied: html5lib<2,>=1.1 in /usr/local/lib/python3.10/dist-packages (from pyshacl) (1.1)\n",
            "Collecting owlrl<7,>=6.0.2 (from pyshacl)\n",
            "  Downloading owlrl-6.0.2-py3-none-any.whl (54 kB)\n",
            "\u001b[2K     \u001b[90m━━━━━━━━━━━━━━━━━━━━━━━━━━━━━━━━━━━━━━━━\u001b[0m \u001b[32m54.5/54.5 kB\u001b[0m \u001b[31m4.4 MB/s\u001b[0m eta \u001b[36m0:00:00\u001b[0m\n",
            "\u001b[?25hRequirement already satisfied: packaging>=21.3 in /usr/local/lib/python3.10/dist-packages (from pyshacl) (23.1)\n",
            "Collecting prettytable<3.0.0,>=2.2.1 (from pyshacl)\n",
            "  Downloading prettytable-2.5.0-py3-none-any.whl (24 kB)\n",
            "Requirement already satisfied: rdflib<7,>=6.2.0 in /usr/local/lib/python3.10/dist-packages (from pyshacl) (6.3.2)\n",
            "Requirement already satisfied: six>=1.9 in /usr/local/lib/python3.10/dist-packages (from html5lib<2,>=1.1->pyshacl) (1.16.0)\n",
            "Requirement already satisfied: webencodings in /usr/local/lib/python3.10/dist-packages (from html5lib<2,>=1.1->pyshacl) (0.5.1)\n",
            "Requirement already satisfied: wcwidth in /usr/local/lib/python3.10/dist-packages (from prettytable<3.0.0,>=2.2.1->pyshacl) (0.2.6)\n",
            "Requirement already satisfied: isodate<0.7.0,>=0.6.0 in /usr/local/lib/python3.10/dist-packages (from rdflib<7,>=6.2.0->pyshacl) (0.6.1)\n",
            "Requirement already satisfied: pyparsing<4,>=2.1.0 in /usr/local/lib/python3.10/dist-packages (from rdflib<7,>=6.2.0->pyshacl) (3.0.9)\n",
            "Installing collected packages: prettytable, owlrl, pyshacl\n",
            "  Attempting uninstall: prettytable\n",
            "    Found existing installation: prettytable 0.7.2\n",
            "    Uninstalling prettytable-0.7.2:\n",
            "      Successfully uninstalled prettytable-0.7.2\n",
            "\u001b[31mERROR: pip's dependency resolver does not currently take into account all the packages that are installed. This behaviour is the source of the following dependency conflicts.\n",
            "ipython-sql 0.4.1 requires prettytable<1, but you have prettytable 2.5.0 which is incompatible.\u001b[0m\u001b[31m\n",
            "\u001b[0mSuccessfully installed owlrl-6.0.2 prettytable-2.5.0 pyshacl-0.22.2\n"
          ]
        }
      ]
    },
    {
      "cell_type": "code",
      "source": [
        "from pyshacl import validate"
      ],
      "metadata": {
        "id": "BhOl37ElI3zF"
      },
      "execution_count": null,
      "outputs": []
    },
    {
      "cell_type": "code",
      "source": [
        "data = Graph()\n",
        "data.parse(\"https://raw.githubusercontent.com/cursosLabra/pruebawebsem/main/SHACL/example1.ttl\", format=\"turtle\")"
      ],
      "metadata": {
        "colab": {
          "base_uri": "https://localhost:8080/"
        },
        "id": "h4B7_jiDITct",
        "outputId": "6de5341f-f6f6-404b-df11-59d062007c4f"
      },
      "execution_count": null,
      "outputs": [
        {
          "output_type": "execute_result",
          "data": {
            "text/plain": [
              "<Graph identifier=Nce61830023854e9db0b8173702f46024 (<class 'rdflib.graph.Graph'>)>"
            ]
          },
          "metadata": {},
          "execution_count": 32
        }
      ]
    },
    {
      "cell_type": "code",
      "source": [
        "shapes = Graph()\n",
        "shapes.parse(\"https://raw.githubusercontent.com/cursosLabra/pruebawebsem/main/SHACL/shapes.ttl\", format=\"turtle\")"
      ],
      "metadata": {
        "colab": {
          "base_uri": "https://localhost:8080/"
        },
        "id": "bfXLikBhIpve",
        "outputId": "26571a5f-48dc-4b85-ab7d-17afd242574d"
      },
      "execution_count": null,
      "outputs": [
        {
          "output_type": "execute_result",
          "data": {
            "text/plain": [
              "<Graph identifier=Ndd403f569bc8453ea453ee8c42d5220d (<class 'rdflib.graph.Graph'>)>"
            ]
          },
          "metadata": {},
          "execution_count": 29
        }
      ]
    },
    {
      "cell_type": "code",
      "source": [
        "r = validate(data, shacl_graph = shapes)"
      ],
      "metadata": {
        "colab": {
          "base_uri": "https://localhost:8080/"
        },
        "id": "6i4XHzgxIvPT",
        "outputId": "15e423de-3950-4f15-9d25-e17a3d927940"
      },
      "execution_count": null,
      "outputs": [
        {
          "output_type": "stream",
          "name": "stderr",
          "text": [
            "Running validation in-place, without modifying the DataGraph.\n",
            "DEBUG:pyshacl.validate:Running validation in-place, without modifying the DataGraph.\n",
            "Checking if Shape <NodeShape http://example.org/UserShape> defines its own targets.\n",
            "DEBUG:pyshacl.validate:Checking if Shape <NodeShape http://example.org/UserShape> defines its own targets.\n",
            "Identifying targets to find focus nodes.\n",
            "DEBUG:pyshacl.validate:Identifying targets to find focus nodes.\n",
            "Found 3 Focus Nodes to evaluate.\n",
            "DEBUG:pyshacl.validate:Found 3 Focus Nodes to evaluate.\n",
            "Running evaluation of Shape <NodeShape http://example.org/UserShape>\n",
            "DEBUG:pyshacl.validate:Running evaluation of Shape <NodeShape http://example.org/UserShape>\n",
            "Running evaluation of Shape <PropertyShape http://example.org/hasName>\n",
            "DEBUG:pyshacl.validate:Running evaluation of Shape <PropertyShape http://example.org/hasName>\n",
            "Shape was passed 1 Focus Node/s to evaluate.\n",
            "DEBUG:pyshacl.validate:Shape was passed 1 Focus Node/s to evaluate.\n",
            "Running evaluation of Shape <PropertyShape http://example.org/hasName>\n",
            "DEBUG:pyshacl.validate:Running evaluation of Shape <PropertyShape http://example.org/hasName>\n",
            "Shape was passed 1 Focus Node/s to evaluate.\n",
            "DEBUG:pyshacl.validate:Shape was passed 1 Focus Node/s to evaluate.\n",
            "Running evaluation of Shape <PropertyShape http://example.org/hasName>\n",
            "DEBUG:pyshacl.validate:Running evaluation of Shape <PropertyShape http://example.org/hasName>\n",
            "Shape was passed 1 Focus Node/s to evaluate.\n",
            "DEBUG:pyshacl.validate:Shape was passed 1 Focus Node/s to evaluate.\n",
            "Running evaluation of Shape <PropertyShape http://example.org/hasEmail>\n",
            "DEBUG:pyshacl.validate:Running evaluation of Shape <PropertyShape http://example.org/hasEmail>\n",
            "Shape was passed 1 Focus Node/s to evaluate.\n",
            "DEBUG:pyshacl.validate:Shape was passed 1 Focus Node/s to evaluate.\n",
            "Running evaluation of Shape <PropertyShape http://example.org/hasEmail>\n",
            "DEBUG:pyshacl.validate:Running evaluation of Shape <PropertyShape http://example.org/hasEmail>\n",
            "Shape was passed 1 Focus Node/s to evaluate.\n",
            "DEBUG:pyshacl.validate:Shape was passed 1 Focus Node/s to evaluate.\n",
            "Running evaluation of Shape <PropertyShape http://example.org/hasEmail>\n",
            "DEBUG:pyshacl.validate:Running evaluation of Shape <PropertyShape http://example.org/hasEmail>\n",
            "Shape was passed 1 Focus Node/s to evaluate.\n",
            "DEBUG:pyshacl.validate:Shape was passed 1 Focus Node/s to evaluate.\n",
            "Checking if Shape <PropertyShape http://example.org/hasName> defines its own targets.\n",
            "DEBUG:pyshacl.validate:Checking if Shape <PropertyShape http://example.org/hasName> defines its own targets.\n",
            "Identifying targets to find focus nodes.\n",
            "DEBUG:pyshacl.validate:Identifying targets to find focus nodes.\n",
            "Found 0 Focus Nodes to evaluate.\n",
            "DEBUG:pyshacl.validate:Found 0 Focus Nodes to evaluate.\n",
            "Checking if Shape <PropertyShape http://example.org/hasEmail> defines its own targets.\n",
            "DEBUG:pyshacl.validate:Checking if Shape <PropertyShape http://example.org/hasEmail> defines its own targets.\n",
            "Identifying targets to find focus nodes.\n",
            "DEBUG:pyshacl.validate:Identifying targets to find focus nodes.\n",
            "Found 0 Focus Nodes to evaluate.\n",
            "DEBUG:pyshacl.validate:Found 0 Focus Nodes to evaluate.\n"
          ]
        }
      ]
    },
    {
      "cell_type": "code",
      "source": [
        "conforms, results_graph, results_text = r\n",
        "print(f\"Conforms: {conforms}\")\n",
        "print(results_graph.serialize(format=\"turtle\"))\n"
      ],
      "metadata": {
        "colab": {
          "base_uri": "https://localhost:8080/"
        },
        "id": "yqmSDsEqJCEM",
        "outputId": "9b454ee9-149c-4ac6-e0d1-27db943d81cd"
      },
      "execution_count": null,
      "outputs": [
        {
          "output_type": "stream",
          "name": "stdout",
          "text": [
            "Conforms: False\n",
            "@prefix : <http://example.org/> .\n",
            "@prefix schema1: <http://schema.org/> .\n",
            "@prefix sh: <http://www.w3.org/ns/shacl#> .\n",
            "@prefix xsd: <http://www.w3.org/2001/XMLSchema#> .\n",
            "\n",
            "[] a sh:ValidationReport ;\n",
            "    sh:conforms false ;\n",
            "    sh:result [ a sh:ValidationResult ;\n",
            "            sh:focusNode :bob ;\n",
            "            sh:resultMessage \"Less than 1 values on :bob->schema1:name\" ;\n",
            "            sh:resultPath schema1:name ;\n",
            "            sh:resultSeverity sh:Violation ;\n",
            "            sh:sourceConstraintComponent sh:MinCountConstraintComponent ;\n",
            "            sh:sourceShape :hasName ],\n",
            "        [ a sh:ValidationResult ;\n",
            "            sh:focusNode :carol ;\n",
            "            sh:resultMessage \"Value is not of Node Kind sh:IRI\" ;\n",
            "            sh:resultPath schema1:email ;\n",
            "            sh:resultSeverity sh:Violation ;\n",
            "            sh:sourceConstraintComponent sh:NodeKindConstraintComponent ;\n",
            "            sh:sourceShape :hasEmail ;\n",
            "            sh:value \"carol@mail.org\" ] .\n",
            "\n",
            "\n"
          ]
        }
      ]
    },
    {
      "cell_type": "markdown",
      "source": [
        "# Ontologías"
      ],
      "metadata": {
        "id": "t34MSCNYFCUs"
      }
    },
    {
      "cell_type": "markdown",
      "source": [
        "La librería [OWLReady2](https://owlready2.readthedocs.io/) permite trabajar con ontologías [OWL](https://www.w3.org/OWL/) desde Python."
      ],
      "metadata": {
        "id": "xFKJhIy5KnUm"
      }
    },
    {
      "cell_type": "code",
      "source": [
        "!pip install owlready2"
      ],
      "metadata": {
        "colab": {
          "base_uri": "https://localhost:8080/"
        },
        "id": "h-xdl3_HFvvb",
        "outputId": "53798e1d-d8c2-474f-8d7c-cda24b61b853"
      },
      "execution_count": null,
      "outputs": [
        {
          "output_type": "stream",
          "name": "stdout",
          "text": [
            "Looking in indexes: https://pypi.org/simple, https://us-python.pkg.dev/colab-wheels/public/simple/\n",
            "Requirement already satisfied: owlready2 in /usr/local/lib/python3.10/dist-packages (0.41)\n"
          ]
        }
      ]
    },
    {
      "cell_type": "code",
      "source": [
        "from owlready2 import get_ontology, sync_reasoner\n"
      ],
      "metadata": {
        "id": "3ejburF0GGJ0"
      },
      "execution_count": null,
      "outputs": []
    },
    {
      "cell_type": "code",
      "source": [
        "onto = get_ontology(\"https://raw.githubusercontent.com/cursosLabra/pruebawebsem/main/Ontologies/owlExample.xml\").load()"
      ],
      "metadata": {
        "id": "J9QdVD6mGF8b"
      },
      "execution_count": null,
      "outputs": []
    },
    {
      "cell_type": "markdown",
      "source": [
        "Lista de individuos y clases a las que pertenecen sin inferencia"
      ],
      "metadata": {
        "id": "YgyZU8dyGgwz"
      }
    },
    {
      "cell_type": "code",
      "source": [
        "for i in onto.individuals():\n",
        "    print(f\"Individual: {i} is a: {i.is_a}\")"
      ],
      "metadata": {
        "colab": {
          "base_uri": "https://localhost:8080/"
        },
        "id": "fYMyGd2KGdBl",
        "outputId": "c4284976-63af-48c4-acdf-bc6d40b2b589"
      },
      "execution_count": null,
      "outputs": [
        {
          "output_type": "stream",
          "name": "stdout",
          "text": [
            "Individual: owlExample.xml.alice is a: [owlExample.xml.Person]\n",
            "Individual: owlExample.xml.bob is a: [owlExample.xml.Person]\n",
            "Individual: owlExample.xml.carol is a: [owlExample.xml.Female, owlExample.xml.Person]\n"
          ]
        }
      ]
    },
    {
      "cell_type": "markdown",
      "source": [
        "Aplicar inferencia"
      ],
      "metadata": {
        "id": "tazOZC6EGlKt"
      }
    },
    {
      "cell_type": "code",
      "source": [
        "sync_reasoner()"
      ],
      "metadata": {
        "colab": {
          "base_uri": "https://localhost:8080/"
        },
        "id": "_qVU1yPkGnLt",
        "outputId": "f56bacc2-de77-4c1a-9ad2-342096d16b73"
      },
      "execution_count": null,
      "outputs": [
        {
          "output_type": "stream",
          "name": "stderr",
          "text": [
            "* Owlready2 * Running HermiT...\n",
            "    java -Xmx2000M -cp /usr/local/lib/python3.10/dist-packages/owlready2/hermit:/usr/local/lib/python3.10/dist-packages/owlready2/hermit/HermiT.jar org.semanticweb.HermiT.cli.CommandLine -c -O -D -I file:////tmp/tmpo5k3au_9\n",
            "* Owlready2 * HermiT took 1.6736795902252197 seconds\n",
            "* Owlready * Reparenting owlExample.xml.bob: {owlExample.xml.Person} => {owlExample.xml.Person, owlExample.xml.Male}\n",
            "* Owlready * (NB: only changes on entities loaded in Python are shown, other changes are done but not listed)\n"
          ]
        }
      ]
    },
    {
      "cell_type": "markdown",
      "source": [
        "Lista de clases e individuos tras inferencia"
      ],
      "metadata": {
        "id": "IionoCvHGqib"
      }
    },
    {
      "cell_type": "code",
      "source": [
        "for i in onto.individuals():\n",
        "    print(f\"Individual: {i} is a: {i.is_a}\")"
      ],
      "metadata": {
        "colab": {
          "base_uri": "https://localhost:8080/"
        },
        "id": "buhBYNZqGtYD",
        "outputId": "c265e6cb-259f-4e6d-cc11-7ccb682d8f32"
      },
      "execution_count": null,
      "outputs": [
        {
          "output_type": "stream",
          "name": "stdout",
          "text": [
            "Individual: owlExample.xml.alice is a: [owlExample.xml.Person]\n",
            "Individual: owlExample.xml.bob is a: [owlExample.xml.Person, owlExample.xml.Male]\n",
            "Individual: owlExample.xml.carol is a: [owlExample.xml.Female, owlExample.xml.Person]\n"
          ]
        }
      ]
    }
  ]
}