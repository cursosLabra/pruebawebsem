{
  "nbformat": 4,
  "nbformat_minor": 0,
  "metadata": {
    "colab": {
      "provenance": [],
      "toc_visible": true,
      "authorship_tag": "ABX9TyPRFde3pXflHs49xBB01e6M",
      "include_colab_link": true
    },
    "kernelspec": {
      "name": "python3",
      "display_name": "Python 3"
    },
    "language_info": {
      "name": "python"
    }
  },
  "cells": [
    {
      "cell_type": "markdown",
      "metadata": {
        "id": "view-in-github",
        "colab_type": "text"
      },
      "source": [
        "<a href=\"https://colab.research.google.com/github/cursosLabra/pruebawebsem/blob/main/Introducci%C3%B3n_a_Web_Sem%C3%A1ntica.ipynb\" target=\"_parent\"><img src=\"https://colab.research.google.com/assets/colab-badge.svg\" alt=\"Open In Colab\"/></a>"
      ]
    },
    {
      "cell_type": "markdown",
      "source": [
        "# Introducción a RDF"
      ],
      "metadata": {
        "id": "MWDvi7GJZulR"
      }
    },
    {
      "cell_type": "markdown",
      "source": [
        "En esta sección, se va a introducir RDF. Para ello, se requiere instalar la  librería [rdflib](https://rdflib.readthedocs.io/)."
      ],
      "metadata": {
        "id": "zldzEGeeChTK"
      }
    },
    {
      "cell_type": "code",
      "execution_count": 59,
      "metadata": {
        "colab": {
          "base_uri": "https://localhost:8080/"
        },
        "id": "0fRGQHRnB50E",
        "outputId": "6f70d700-5521-4b04-a13b-8fe084b9f0a4"
      },
      "outputs": [
        {
          "output_type": "stream",
          "name": "stdout",
          "text": [
            "Looking in indexes: https://pypi.org/simple, https://us-python.pkg.dev/colab-wheels/public/simple/\n",
            "Requirement already satisfied: rdflib in /usr/local/lib/python3.10/dist-packages (6.3.2)\n",
            "Requirement already satisfied: isodate<0.7.0,>=0.6.0 in /usr/local/lib/python3.10/dist-packages (from rdflib) (0.6.1)\n",
            "Requirement already satisfied: pyparsing<4,>=2.1.0 in /usr/local/lib/python3.10/dist-packages (from rdflib) (3.0.9)\n",
            "Requirement already satisfied: six in /usr/local/lib/python3.10/dist-packages (from isodate<0.7.0,>=0.6.0->rdflib) (1.16.0)\n"
          ]
        }
      ],
      "source": [
        "!pip install rdflib"
      ]
    },
    {
      "cell_type": "markdown",
      "source": [
        "A partir de ahí, se pueden crear grafos importando las clases correspondientes de rdflib."
      ],
      "metadata": {
        "id": "9_tPCi7AaKpB"
      }
    },
    {
      "cell_type": "code",
      "source": [
        "from rdflib import Graph"
      ],
      "metadata": {
        "id": "HH6ynQnyCmIM"
      },
      "execution_count": 60,
      "outputs": []
    },
    {
      "cell_type": "code",
      "source": [
        "g = Graph()"
      ],
      "metadata": {
        "id": "I-N-TIFIDLCB"
      },
      "execution_count": 61,
      "outputs": []
    },
    {
      "cell_type": "code",
      "source": [
        "g.parse(\"https://raw.githubusercontent.com/cursosLabra/pruebawebsem/main/example1.ttl\", format=\"turtle\")"
      ],
      "metadata": {
        "colab": {
          "base_uri": "https://localhost:8080/"
        },
        "id": "5uJPtI2vDNm5",
        "outputId": "7546de03-c485-4710-dd89-8833d41c34fe"
      },
      "execution_count": 69,
      "outputs": [
        {
          "output_type": "execute_result",
          "data": {
            "text/plain": [
              "<Graph identifier=N949aa280ccaf470a8e0980524ac37179 (<class 'rdflib.graph.Graph'>)>"
            ]
          },
          "metadata": {},
          "execution_count": 69
        }
      ]
    },
    {
      "cell_type": "code",
      "source": [
        "for contador, t in enumerate(g):\n",
        "  print(f\"Tripleta {contador}: sujeto = {t[0]}, predicado = {t[1]}, objeto = {t[2]}\") "
      ],
      "metadata": {
        "colab": {
          "base_uri": "https://localhost:8080/"
        },
        "id": "cnxPNymODh_z",
        "outputId": "0ce28054-e870-4fb2-b094-c889f410287f"
      },
      "execution_count": 76,
      "outputs": [
        {
          "output_type": "stream",
          "name": "stdout",
          "text": [
            "Tripleta 0: sujeto = http://example.org/carol, predicado = https://schema.org/birthPlace, objeto = http://dbpedia.org/resource/Oviedo\n",
            "Tripleta 1: sujeto = http://example.org/bob, predicado = https://schema.org/birthPlace, objeto = http://dbpedia.org/resource/Oviedo\n",
            "Tripleta 2: sujeto = http://example.org/bob, predicado = http://schema.org/knows, objeto = http://example.org/carol\n",
            "Tripleta 3: sujeto = http://example.org/carol, predicado = http://schema.org/knows, objeto = http://example.org/bob\n",
            "Tripleta 4: sujeto = http://example.org/carol, predicado = http://schema.org/knows, objeto = http://example.org/alice\n",
            "Tripleta 5: sujeto = http://example.org/alice, predicado = http://schema.org/knows, objeto = http://example.org/bob\n"
          ]
        }
      ]
    },
    {
      "cell_type": "code",
      "source": [
        "print(g.serialize(format=\"nt\"))"
      ],
      "metadata": {
        "colab": {
          "base_uri": "https://localhost:8080/"
        },
        "id": "Gcd8jDZGc30Q",
        "outputId": "7730d82e-b382-47bf-a095-ea8ea920c6cb"
      },
      "execution_count": 75,
      "outputs": [
        {
          "output_type": "stream",
          "name": "stdout",
          "text": [
            "<http://example.org/carol> <https://schema.org/birthPlace> <http://dbpedia.org/resource/Oviedo> .\n",
            "<http://example.org/bob> <https://schema.org/birthPlace> <http://dbpedia.org/resource/Oviedo> .\n",
            "<http://example.org/bob> <http://schema.org/knows> <http://example.org/carol> .\n",
            "<http://example.org/carol> <http://schema.org/knows> <http://example.org/bob> .\n",
            "<http://example.org/carol> <http://schema.org/knows> <http://example.org/alice> .\n",
            "<http://example.org/alice> <http://schema.org/knows> <http://example.org/bob> .\n",
            "\n"
          ]
        }
      ]
    },
    {
      "cell_type": "code",
      "source": [
        "print(g.serialize(format=\"xml\"))"
      ],
      "metadata": {
        "colab": {
          "base_uri": "https://localhost:8080/"
        },
        "id": "nAw4nv9EhzRg",
        "outputId": "099c0741-7910-47bf-d045-e3f0f1a7870b"
      },
      "execution_count": 74,
      "outputs": [
        {
          "output_type": "stream",
          "name": "stdout",
          "text": [
            "<?xml version=\"1.0\" encoding=\"utf-8\"?>\n",
            "<rdf:RDF\n",
            "   xmlns:rdf=\"http://www.w3.org/1999/02/22-rdf-syntax-ns#\"\n",
            "   xmlns:schema=\"https://schema.org/\"\n",
            "   xmlns:schema1=\"http://schema.org/\"\n",
            ">\n",
            "  <rdf:Description rdf:about=\"http://example.org/carol\">\n",
            "    <schema1:knows rdf:resource=\"http://example.org/bob\"/>\n",
            "    <schema1:knows rdf:resource=\"http://example.org/alice\"/>\n",
            "    <schema:birthPlace rdf:resource=\"http://dbpedia.org/resource/Oviedo\"/>\n",
            "  </rdf:Description>\n",
            "  <rdf:Description rdf:about=\"http://example.org/bob\">\n",
            "    <schema1:knows rdf:resource=\"http://example.org/carol\"/>\n",
            "    <schema:birthPlace rdf:resource=\"http://dbpedia.org/resource/Oviedo\"/>\n",
            "  </rdf:Description>\n",
            "  <rdf:Description rdf:about=\"http://example.org/alice\">\n",
            "    <schema1:knows rdf:resource=\"http://example.org/bob\"/>\n",
            "  </rdf:Description>\n",
            "</rdf:RDF>\n",
            "\n"
          ]
        }
      ]
    },
    {
      "cell_type": "code",
      "source": [
        "print(g.serialize(format=\"json-ld\"))"
      ],
      "metadata": {
        "colab": {
          "base_uri": "https://localhost:8080/"
        },
        "id": "VOA6jtCoh_gI",
        "outputId": "7be00a50-568d-432c-9bbe-797bbc02838b"
      },
      "execution_count": 73,
      "outputs": [
        {
          "output_type": "stream",
          "name": "stdout",
          "text": [
            "[\n",
            "  {\n",
            "    \"@id\": \"http://example.org/bob\",\n",
            "    \"http://schema.org/knows\": [\n",
            "      {\n",
            "        \"@id\": \"http://example.org/carol\"\n",
            "      }\n",
            "    ],\n",
            "    \"https://schema.org/birthPlace\": [\n",
            "      {\n",
            "        \"@id\": \"http://dbpedia.org/resource/Oviedo\"\n",
            "      }\n",
            "    ]\n",
            "  },\n",
            "  {\n",
            "    \"@id\": \"http://example.org/alice\",\n",
            "    \"http://schema.org/knows\": [\n",
            "      {\n",
            "        \"@id\": \"http://example.org/bob\"\n",
            "      }\n",
            "    ]\n",
            "  },\n",
            "  {\n",
            "    \"@id\": \"http://example.org/carol\",\n",
            "    \"http://schema.org/knows\": [\n",
            "      {\n",
            "        \"@id\": \"http://example.org/bob\"\n",
            "      },\n",
            "      {\n",
            "        \"@id\": \"http://example.org/alice\"\n",
            "      }\n",
            "    ],\n",
            "    \"https://schema.org/birthPlace\": [\n",
            "      {\n",
            "        \"@id\": \"http://dbpedia.org/resource/Oviedo\"\n",
            "      }\n",
            "    ]\n",
            "  }\n",
            "]\n"
          ]
        }
      ]
    },
    {
      "cell_type": "code",
      "source": [
        "g.parse(\"https://raw.githubusercontent.com/cursosLabra/pruebawebsem/main/example2.ttl\", format=\"turtle\")\n",
        "print(g.serialize(format=\"turtle\"))"
      ],
      "metadata": {
        "colab": {
          "base_uri": "https://localhost:8080/"
        },
        "id": "xmTN0s_1Oqmf",
        "outputId": "69b6875c-7141-4630-90d0-74ded1370bd0"
      },
      "execution_count": 72,
      "outputs": [
        {
          "output_type": "stream",
          "name": "stdout",
          "text": [
            "@prefix : <http://example.org/> .\n",
            "@prefix dbr: <http://dbpedia.org/resource/> .\n",
            "@prefix schema: <https://schema.org/> .\n",
            "@prefix schema1: <http://schema.org/> .\n",
            "\n",
            ":alice schema1:knows :bob .\n",
            "\n",
            ":carol schema1:knows :alice,\n",
            "        :bob ;\n",
            "    schema:birthPlace dbr:Oviedo .\n",
            "\n",
            ":bob schema1:knows :carol ;\n",
            "    schema:birthPlace dbr:Oviedo .\n",
            "\n",
            "\n"
          ]
        }
      ]
    },
    {
      "cell_type": "code",
      "source": [
        "g1."
      ],
      "metadata": {
        "colab": {
          "base_uri": "https://localhost:8080/",
          "height": 130
        },
        "id": "02a4LQG4iKYg",
        "outputId": "6bbae1ee-00d6-4199-b8e8-bfc9e52f95d6"
      },
      "execution_count": 68,
      "outputs": [
        {
          "output_type": "error",
          "ename": "SyntaxError",
          "evalue": "ignored",
          "traceback": [
            "\u001b[0;36m  File \u001b[0;32m\"<ipython-input-68-b21c2d1c2c0e>\"\u001b[0;36m, line \u001b[0;32m1\u001b[0m\n\u001b[0;31m    g1.\u001b[0m\n\u001b[0m       ^\u001b[0m\n\u001b[0;31mSyntaxError\u001b[0m\u001b[0;31m:\u001b[0m invalid syntax\n"
          ]
        }
      ]
    }
  ]
}